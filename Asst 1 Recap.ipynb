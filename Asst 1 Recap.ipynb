{
 "cells": [
  {
   "cell_type": "code",
   "execution_count": 1,
   "metadata": {},
   "outputs": [],
   "source": [
    "import pandas as pd  # data frame operations  \n",
    "import matplotlib.pyplot as plt"
   ]
  },
  {
   "cell_type": "code",
   "execution_count": 2,
   "metadata": {},
   "outputs": [],
   "source": [
    "valid_survey_input = pd.read_csv('Assignment 1/mspa-software-survey-case-python-v005/mspa-software-survey-case-python-v005/mspa-survey-data.csv')"
   ]
  },
  {
   "cell_type": "code",
   "execution_count": 3,
   "metadata": {},
   "outputs": [],
   "source": [
    "survey_df = valid_survey_input.rename(index=str, columns={\n",
    "    'Personal_JavaScalaSpark': 'My_Java',\n",
    "    'Personal_JavaScriptHTMLCSS': 'My_JS',\n",
    "    'Personal_Python': 'My_Python',\n",
    "    'Personal_R': 'My_R',\n",
    "    'Personal_SAS': 'My_SAS',\n",
    "    'Professional_JavaScalaSpark': 'Prof_Java',\n",
    "    'Professional_JavaScriptHTMLCSS': 'Prof_JS',\n",
    "    'Professional_Python': 'Prof_Python',\n",
    "    'Professional_R': 'Prof_R',\n",
    "    'Professional_SAS': 'Prof_SAS',\n",
    "    'Industry_JavaScalaSpark': 'Ind_Java',\n",
    "    'Industry_JavaScriptHTMLCSS': 'Ind_JS',\n",
    "    'Industry_Python': 'Ind_Python',\n",
    "    'Industry_R': 'Ind_R',\n",
    "    'Industry_SAS': 'Ind_SAS'})"
   ]
  },
  {
   "cell_type": "code",
   "execution_count": 4,
   "metadata": {},
   "outputs": [
    {
     "data": {
      "image/png": "[encoded data removed]",
      "text/plain": [
       "<Figure size 432x288 with 1 Axes>"
      ]
     },
     "metadata": {},
     "output_type": "display_data"
    }
   ],
   "source": [
    "# single scatter plot example\n",
    "fig, axis = plt.subplots()\n",
    "axis.set_xlabel('Personal Preference for R')\n",
    "axis.set_ylabel('Personal Preference for Python')\n",
    "plt.title('R and Python Perferences')\n",
    "scatter_plot = axis.scatter(survey_df['My_R'], \n",
    "    survey_df['My_Python'],\n",
    "    facecolors = 'none', \n",
    "    edgecolors = 'blue') \n",
    "plt.savefig('plot-scatter-r-python.pdf', \n",
    "    bbox_inches = 'tight', dpi=None, facecolor='w', edgecolor='b', \n",
    "    orientation='portrait', papertype=None, format=None, \n",
    "    transparent=True, pad_inches=0.25, frameon=None)  "
   ]
  },
  {
   "cell_type": "code",
   "execution_count": 5,
   "metadata": {},
   "outputs": [],
   "source": [
    "gb = survey_df.groupby(['My_Python', 'My_R']).size()"
   ]
  },
  {
   "cell_type": "code",
   "execution_count": 7,
   "metadata": {},
   "outputs": [],
   "source": [
    "survey_df['count'] = 0\n",
    "for i in range(len(survey_df)):\n",
    "    survey_df.iloc[i, survey_df.columns.get_loc('count')] = gb[survey_df.iloc[i]['My_Python'], survey_df.iloc[i]['My_R']]"
   ]
  },
  {
   "cell_type": "code",
   "execution_count": 8,
   "metadata": {},
   "outputs": [
    {
     "data": {
      "text/html": [
       "<div>\n",
       "<style scoped>\n",
       "    .dataframe tbody tr th:only-of-type {\n",
       "        vertical-align: middle;\n",
       "    }\n",
       "\n",
       "    .dataframe tbody tr th {\n",
       "        vertical-align: top;\n",
       "    }\n",
       "\n",
       "    .dataframe thead th {\n",
       "        text-align: right;\n",
       "    }\n",
       "</style>\n",
       "<table border=\"1\" class=\"dataframe\">\n",
       "  <thead>\n",
       "    <tr style=\"text-align: right;\">\n",
       "      <th></th>\n",
       "      <th>RespondentID</th>\n",
       "      <th>My_Java</th>\n",
       "      <th>My_JS</th>\n",
       "      <th>My_Python</th>\n",
       "      <th>My_R</th>\n",
       "      <th>My_SAS</th>\n",
       "      <th>Prof_Java</th>\n",
       "      <th>Prof_JS</th>\n",
       "      <th>Prof_Python</th>\n",
       "      <th>Prof_R</th>\n",
       "      <th>...</th>\n",
       "      <th>PREDICT454</th>\n",
       "      <th>PREDICT455</th>\n",
       "      <th>PREDICT456</th>\n",
       "      <th>PREDICT457</th>\n",
       "      <th>OtherPython</th>\n",
       "      <th>OtherR</th>\n",
       "      <th>OtherSAS</th>\n",
       "      <th>Other</th>\n",
       "      <th>Graduate_Date</th>\n",
       "      <th>count</th>\n",
       "    </tr>\n",
       "  </thead>\n",
       "  <tbody>\n",
       "    <tr>\n",
       "      <th>0</th>\n",
       "      <td>5135740122</td>\n",
       "      <td>0</td>\n",
       "      <td>0</td>\n",
       "      <td>0</td>\n",
       "      <td>50</td>\n",
       "      <td>50</td>\n",
       "      <td>0</td>\n",
       "      <td>0</td>\n",
       "      <td>0</td>\n",
       "      <td>25</td>\n",
       "      <td>...</td>\n",
       "      <td>NaN</td>\n",
       "      <td>NaN</td>\n",
       "      <td>NaN</td>\n",
       "      <td>NaN</td>\n",
       "      <td>NaN</td>\n",
       "      <td>NaN</td>\n",
       "      <td>NaN</td>\n",
       "      <td>NaN</td>\n",
       "      <td>NaN</td>\n",
       "      <td>4</td>\n",
       "    </tr>\n",
       "    <tr>\n",
       "      <th>1</th>\n",
       "      <td>5133300037</td>\n",
       "      <td>10</td>\n",
       "      <td>10</td>\n",
       "      <td>50</td>\n",
       "      <td>30</td>\n",
       "      <td>0</td>\n",
       "      <td>25</td>\n",
       "      <td>25</td>\n",
       "      <td>30</td>\n",
       "      <td>20</td>\n",
       "      <td>...</td>\n",
       "      <td>NaN</td>\n",
       "      <td>NaN</td>\n",
       "      <td>NaN</td>\n",
       "      <td>NaN</td>\n",
       "      <td>NaN</td>\n",
       "      <td>NaN</td>\n",
       "      <td>NaN</td>\n",
       "      <td>NaN</td>\n",
       "      <td>Spring 2018</td>\n",
       "      <td>3</td>\n",
       "    </tr>\n",
       "    <tr>\n",
       "      <th>2</th>\n",
       "      <td>5132253300</td>\n",
       "      <td>20</td>\n",
       "      <td>0</td>\n",
       "      <td>40</td>\n",
       "      <td>40</td>\n",
       "      <td>0</td>\n",
       "      <td>0</td>\n",
       "      <td>0</td>\n",
       "      <td>40</td>\n",
       "      <td>40</td>\n",
       "      <td>...</td>\n",
       "      <td>NaN</td>\n",
       "      <td>NaN</td>\n",
       "      <td>NaN</td>\n",
       "      <td>NaN</td>\n",
       "      <td>NaN</td>\n",
       "      <td>NaN</td>\n",
       "      <td>NaN</td>\n",
       "      <td>NaN</td>\n",
       "      <td>Fall 2018</td>\n",
       "      <td>15</td>\n",
       "    </tr>\n",
       "    <tr>\n",
       "      <th>3</th>\n",
       "      <td>5132096630</td>\n",
       "      <td>10</td>\n",
       "      <td>10</td>\n",
       "      <td>25</td>\n",
       "      <td>35</td>\n",
       "      <td>20</td>\n",
       "      <td>10</td>\n",
       "      <td>10</td>\n",
       "      <td>25</td>\n",
       "      <td>35</td>\n",
       "      <td>...</td>\n",
       "      <td>NaN</td>\n",
       "      <td>NaN</td>\n",
       "      <td>NaN</td>\n",
       "      <td>NaN</td>\n",
       "      <td>NaN</td>\n",
       "      <td>NaN</td>\n",
       "      <td>NaN</td>\n",
       "      <td>NaN</td>\n",
       "      <td>Fall 2017</td>\n",
       "      <td>2</td>\n",
       "    </tr>\n",
       "    <tr>\n",
       "      <th>4</th>\n",
       "      <td>5131990362</td>\n",
       "      <td>20</td>\n",
       "      <td>0</td>\n",
       "      <td>0</td>\n",
       "      <td>70</td>\n",
       "      <td>10</td>\n",
       "      <td>20</td>\n",
       "      <td>0</td>\n",
       "      <td>0</td>\n",
       "      <td>80</td>\n",
       "      <td>...</td>\n",
       "      <td>NaN</td>\n",
       "      <td>NaN</td>\n",
       "      <td>NaN</td>\n",
       "      <td>NaN</td>\n",
       "      <td>NaN</td>\n",
       "      <td>NaN</td>\n",
       "      <td>NaN</td>\n",
       "      <td>CS-435 with Weka</td>\n",
       "      <td>Fall 2018</td>\n",
       "      <td>1</td>\n",
       "    </tr>\n",
       "  </tbody>\n",
       "</table>\n",
       "<p>5 rows × 42 columns</p>\n",
       "</div>"
      ],
      "text/plain": [
       "   RespondentID  My_Java  My_JS  My_Python  My_R  My_SAS  Prof_Java  Prof_JS  \\\n",
       "0    5135740122        0      0          0    50      50          0        0   \n",
       "1    5133300037       10     10         50    30       0         25       25   \n",
       "2    5132253300       20      0         40    40       0          0        0   \n",
       "3    5132096630       10     10         25    35      20         10       10   \n",
       "4    5131990362       20      0          0    70      10         20        0   \n",
       "\n",
       "   Prof_Python  Prof_R  ...    PREDICT454  PREDICT455  PREDICT456  PREDICT457  \\\n",
       "0            0      25  ...           NaN         NaN         NaN         NaN   \n",
       "1           30      20  ...           NaN         NaN         NaN         NaN   \n",
       "2           40      40  ...           NaN         NaN         NaN         NaN   \n",
       "3           25      35  ...           NaN         NaN         NaN         NaN   \n",
       "4            0      80  ...           NaN         NaN         NaN         NaN   \n",
       "\n",
       "   OtherPython  OtherR  OtherSAS             Other  Graduate_Date  count  \n",
       "0          NaN     NaN       NaN               NaN            NaN      4  \n",
       "1          NaN     NaN       NaN               NaN    Spring 2018      3  \n",
       "2          NaN     NaN       NaN               NaN      Fall 2018     15  \n",
       "3          NaN     NaN       NaN               NaN      Fall 2017      2  \n",
       "4          NaN     NaN       NaN  CS-435 with Weka      Fall 2018      1  \n",
       "\n",
       "[5 rows x 42 columns]"
      ]
     },
     "execution_count": 8,
     "metadata": {},
     "output_type": "execute_result"
    }
   ],
   "source": [
    "survey_df.head()"
   ]
  },
  {
   "cell_type": "code",
   "execution_count": 9,
   "metadata": {},
   "outputs": [
    {
     "data": {
      "image/png": "[encoded data removed]",
      "text/plain": [
       "<Figure size 432x288 with 1 Axes>"
      ]
     },
     "metadata": {},
     "output_type": "display_data"
    }
   ],
   "source": [
    "# single scatter plot example\n",
    "fig, axis = plt.subplots()\n",
    "axis.set_xlabel('Personal Preference for R')\n",
    "axis.set_ylabel('Personal Preference for Python')\n",
    "plt.title('R and Python Perferences')\n",
    "scatter_plot = axis.scatter(survey_df['My_R'], \n",
    "    survey_df['My_Python'],\n",
    "    facecolors = 'none', \n",
    "    edgecolors = 'blue',\n",
    "    s = survey_df['count']) \n",
    "plt.savefig('plot-scatter-r-python.pdf', \n",
    "    bbox_inches = 'tight', dpi=None, facecolor='w', edgecolor='b', \n",
    "    orientation='portrait', papertype=None, format=None, \n",
    "    transparent=True, pad_inches=0.25, frameon=None)  "
   ]
  },
  {
   "cell_type": "code",
   "execution_count": null,
   "metadata": {},
   "outputs": [],
   "source": []
  }
 ],
 "metadata": {
  "kernelspec": {
   "display_name": "Python 3",
   "language": "python",
   "name": "python3"
  },
  "language_info": {
   "codemirror_mode": {
    "name": "ipython",
    "version": 3
   },
   "file_extension": ".py",
   "mimetype": "text/x-python",
   "name": "python",
   "nbconvert_exporter": "python",
   "pygments_lexer": "ipython3",
   "version": "3.6.5"
  }
 },
 "nbformat": 4,
 "nbformat_minor": 2
}
